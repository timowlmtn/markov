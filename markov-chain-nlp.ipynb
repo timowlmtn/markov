{
 "metadata": {
  "kernelspec": {
   "language": "python",
   "display_name": "Python 3",
   "name": "python3"
  },
  "language_info": {
   "pygments_lexer": "ipython3",
   "nbconvert_exporter": "python",
   "version": "3.6.4",
   "file_extension": ".py",
   "codemirror_mode": {
    "name": "ipython",
    "version": 3
   },
   "name": "python",
   "mimetype": "text/x-python"
  },
  "kaggle": {
   "accelerator": "none",
   "dataSources": [
    {
     "sourceId": 8412,
     "sourceType": "datasetVersion",
     "datasetId": 5637
    }
   ],
   "dockerImageVersionId": 30035,
   "isInternetEnabled": true,
   "language": "python",
   "sourceType": "notebook",
   "isGpuEnabled": false
  }
 },
 "nbformat_minor": 4,
 "nbformat": 4,
 "cells": [
  {
   "cell_type": "markdown",
   "source": [
    "## Importing tools"
   ],
   "metadata": {}
  },
  {
   "cell_type": "code",
   "source": [
    "import numpy as np\n",
    "import pandas as pd\n",
    "import os\n",
    "import re\n",
    "import string\n",
    "import nltk\n",
    "from nltk.tokenize import word_tokenize\n",
    "from nltk.corpus import stopwords\n",
    "import random"
   ],
   "metadata": {
    "_uuid": "8f2839f25d086af736a60e9eeb907d3b93b6e0e5",
    "_cell_guid": "b1076dfc-b9ad-4769-8c92-a6c4dae69d19",
    "trusted": true,
    "ExecuteTime": {
     "start_time": "2023-11-26T11:35:24.618157Z",
     "end_time": "2023-11-26T11:35:24.623842Z"
    }
   },
   "execution_count": 4,
   "outputs": []
  },
  {
   "cell_type": "markdown",
   "source": [
    "## Reading every Sherlock Holmes adventure!"
   ],
   "metadata": {}
  },
  {
   "cell_type": "code",
   "source": [
    "story_path = \"./sherlock/\"\n",
    "\n",
    "def read_all_stories(story_path):\n",
    "    txt = []\n",
    "    for _, _, files in os.walk(story_path):\n",
    "        for file in files:\n",
    "            with open(story_path+file) as f:\n",
    "                print(file)\n",
    "                for line in f:\n",
    "                    line = line.strip()\n",
    "                    if line=='----------': break\n",
    "                    if line!='':txt.append(line)\n",
    "    return txt\n",
    "        \n",
    "stories = read_all_stories(story_path)\n",
    "print(\"number of lines = \", len(stories))"
   ],
   "metadata": {
    "trusted": true,
    "ExecuteTime": {
     "start_time": "2023-11-26T11:35:26.046414Z",
     "end_time": "2023-11-26T11:35:26.119805Z"
    }
   },
   "execution_count": 5,
   "outputs": [
    {
     "name": "stdout",
     "output_type": "stream",
     "text": [
      "glor.txt\n",
      "lstb.txt\n",
      "empt.txt\n",
      "mems.txt\n",
      "retn.txt\n",
      "norw.txt\n",
      "blac.txt\n",
      "3gar.txt\n",
      "spec.txt\n",
      "danc.txt\n",
      "blue.txt\n",
      "bosc.txt\n",
      "reti.txt\n",
      "gree.txt\n",
      "cano.txt\n",
      "sign.txt\n",
      "3gab.txt\n",
      "shos.txt\n",
      "bery.txt\n",
      "soli.txt\n",
      "cree.txt\n",
      "resi.txt\n",
      "reig.txt\n",
      "prio.txt\n",
      "card.txt\n",
      "bruc.txt\n",
      "nobl.txt\n",
      "redc.txt\n",
      "seco.txt\n",
      "vall.txt\n",
      "stoc.txt\n",
      "iden.txt\n",
      "lion.txt\n",
      "copp.txt\n",
      "nava.txt\n",
      "sixn.txt\n",
      "case.txt\n",
      "3stu.txt\n",
      "chas.txt\n",
      "redh.txt\n",
      "miss.txt\n",
      "advs.txt\n",
      "abbe.txt\n",
      "twis.txt\n",
      "wist.txt\n",
      "cnus.txt\n",
      "engr.txt\n",
      "suss.txt\n",
      "stud.txt\n",
      "silv.txt\n",
      "gold.txt\n",
      "scan.txt\n",
      "maza.txt\n",
      "dyin.txt\n",
      "lady.txt\n",
      "devi.txt\n",
      "croo.txt\n",
      "houn.txt\n",
      "musg.txt\n",
      "illu.txt\n",
      "five.txt\n",
      "yell.txt\n",
      "blan.txt\n",
      "fina.txt\n",
      "last.txt\n",
      "thor.txt\n",
      "veil.txt\n",
      "number of lines =  215021\n"
     ]
    }
   ]
  },
  {
   "cell_type": "markdown",
   "source": [
    "## Cleaning the text"
   ],
   "metadata": {}
  },
  {
   "cell_type": "code",
   "source": [
    "def clean_txt(txt):\n",
    "    cleaned_txt = []\n",
    "    for line in txt:\n",
    "        line = line.lower()\n",
    "        line = re.sub(r\"[,.\\\"\\'!@#$%^&*(){}?/;`~:<>+=-\\\\]\", \"\", line)\n",
    "        tokens = word_tokenize(line)\n",
    "        words = [word for word in tokens if word.isalpha()]\n",
    "        cleaned_txt+=words\n",
    "    return cleaned_txt\n",
    "\n",
    "cleaned_stories = clean_txt(stories)\n",
    "print(\"number of words = \", len(cleaned_stories))"
   ],
   "metadata": {
    "trusted": true,
    "ExecuteTime": {
     "start_time": "2023-11-26T11:35:37.577988Z",
     "end_time": "2023-11-26T11:35:47.041503Z"
    }
   },
   "execution_count": 6,
   "outputs": [
    {
     "name": "stdout",
     "output_type": "stream",
     "text": [
      "number of words =  2332247\n"
     ]
    }
   ]
  },
  {
   "cell_type": "markdown",
   "source": [
    "## Creating the Markov Model"
   ],
   "metadata": {}
  },
  {
   "cell_type": "code",
   "source": [
    "def make_markov_model(cleaned_stories, n_gram=2):\n",
    "    markov_model = {}\n",
    "    for i in range(len(cleaned_stories)-n_gram-1):\n",
    "        curr_state, next_state = \"\", \"\"\n",
    "        for j in range(n_gram):\n",
    "            curr_state += cleaned_stories[i+j] + \" \"\n",
    "            next_state += cleaned_stories[i+j+n_gram] + \" \"\n",
    "        curr_state = curr_state[:-1]\n",
    "        next_state = next_state[:-1]\n",
    "        if curr_state not in markov_model:\n",
    "            markov_model[curr_state] = {}\n",
    "            markov_model[curr_state][next_state] = 1\n",
    "        else:\n",
    "            if next_state in markov_model[curr_state]:\n",
    "                markov_model[curr_state][next_state] += 1\n",
    "            else:\n",
    "                markov_model[curr_state][next_state] = 1\n",
    "    \n",
    "    # calculating transition probabilities\n",
    "    for curr_state, transition in markov_model.items():\n",
    "        total = sum(transition.values())\n",
    "        for state, count in transition.items():\n",
    "            markov_model[curr_state][state] = count/total\n",
    "        \n",
    "    return markov_model"
   ],
   "metadata": {
    "trusted": true,
    "ExecuteTime": {
     "start_time": "2023-11-26T11:35:52.569514Z",
     "end_time": "2023-11-26T11:35:52.574557Z"
    }
   },
   "execution_count": 7,
   "outputs": []
  },
  {
   "cell_type": "code",
   "source": [
    "markov_model = make_markov_model(cleaned_stories)"
   ],
   "metadata": {
    "trusted": true,
    "ExecuteTime": {
     "start_time": "2023-11-26T11:36:27.356048Z",
     "end_time": "2023-11-26T11:36:29.505002Z"
    }
   },
   "execution_count": 8,
   "outputs": []
  },
  {
   "cell_type": "code",
   "source": [
    "print(\"number of states = \", len(markov_model.keys()))"
   ],
   "metadata": {
    "trusted": true,
    "ExecuteTime": {
     "start_time": "2023-11-26T11:36:30.467744Z",
     "end_time": "2023-11-26T11:36:30.476910Z"
    }
   },
   "execution_count": 9,
   "outputs": [
    {
     "name": "stdout",
     "output_type": "stream",
     "text": [
      "number of states =  208717\n"
     ]
    }
   ]
  },
  {
   "cell_type": "code",
   "source": [
    "print(\"All possible transitions from 'the game' state: \\n\")\n",
    "print(markov_model['the game'])"
   ],
   "metadata": {
    "trusted": true,
    "ExecuteTime": {
     "start_time": "2023-11-26T11:36:32.417558Z",
     "end_time": "2023-11-26T11:36:32.428878Z"
    }
   },
   "execution_count": 10,
   "outputs": [
    {
     "name": "stdout",
     "output_type": "stream",
     "text": [
      "All possible transitions from 'the game' state: \n",
      "\n",
      "{'is up': 0.06306306306306306, 'is and': 0.036036036036036036, 'was afoot': 0.036036036036036036, 'for the': 0.036036036036036036, 'was whist': 0.036036036036036036, 'would have': 0.036036036036036036, 'in their': 0.036036036036036036, 'was up': 0.09009009009009009, 'in that': 0.036036036036036036, 'the lack': 0.036036036036036036, 'for all': 0.06306306306306306, 'is afoot': 0.036036036036036036, 'was in': 0.02702702702702703, 'is hardly': 0.02702702702702703, 'may wander': 0.02702702702702703, 'now a': 0.02702702702702703, 'my own': 0.02702702702702703, 'at any': 0.02702702702702703, 'mr holmes': 0.02702702702702703, 'ay whats': 0.02702702702702703, 'my friend': 0.02702702702702703, 'fairly by': 0.02702702702702703, 'is not': 0.02702702702702703, 'was not': 0.02702702702702703, 'worth it': 0.02702702702702703, 'you are': 0.02702702702702703, 'i am': 0.02702702702702703, 'now count': 0.02702702702702703, 'your letter': 0.02702702702702703}\n"
     ]
    }
   ]
  },
  {
   "cell_type": "markdown",
   "source": [
    "## Generating Sherlock Holmes stories!"
   ],
   "metadata": {}
  },
  {
   "cell_type": "code",
   "source": [
    "def generate_story(markov_model, limit=100, start='my god'):\n",
    "    n = 0\n",
    "    curr_state = start\n",
    "    next_state = None\n",
    "    story = \"\"\n",
    "    story+=curr_state+\" \"\n",
    "    while n<limit:\n",
    "        next_state = random.choices(list(markov_model[curr_state].keys()),\n",
    "                                    list(markov_model[curr_state].values()))\n",
    "        \n",
    "        curr_state = next_state[0]\n",
    "        story+=curr_state+\" \"\n",
    "        n+=1\n",
    "    return story"
   ],
   "metadata": {
    "trusted": true,
    "ExecuteTime": {
     "start_time": "2023-11-26T11:36:36.221795Z",
     "end_time": "2023-11-26T11:36:36.227348Z"
    }
   },
   "execution_count": 11,
   "outputs": []
  },
  {
   "cell_type": "code",
   "source": [
    "for i in range(20):\n",
    "    print(str(i)+\". \", generate_story(markov_model, start=\"dear holmes\", limit=8))"
   ],
   "metadata": {
    "trusted": true,
    "ExecuteTime": {
     "start_time": "2023-11-26T11:36:37.218216Z",
     "end_time": "2023-11-26T11:36:37.223081Z"
    }
   },
   "execution_count": 12,
   "outputs": [
    {
     "name": "stdout",
     "output_type": "stream",
     "text": [
      "0.  dear holmes you are uttering libel in the dead mans what do you think that they know so \n",
      "1.  dear holmes if i remember right who was to tell you that if you come down and spend \n",
      "2.  dear holmes i ejaculated no for my steve you are talking about him what will he knew well \n",
      "3.  dear holmes what do you make of it standing in a considerable share in clearing the matter up \n",
      "4.  dear holmes i have no one to be dazzled by the sudden swirl round of the reminiscences of \n",
      "5.  dear holmes said i ivy lane brixton he answered but women were taking down shutters and that i \n",
      "6.  dear holmes i ejaculated precisely so head attendant at the last said he and his companion with those \n",
      "7.  dear holmes you are then catch a fine one said holmes the train has been broken unwelcome truths \n",
      "8.  dear holmes said i when should i take it in his collection speaking of your papers for a \n",
      "9.  dear holmes am i accused of asked mcmurdo of being in this way we had gone up to \n",
      "10.  dear holmes i thought at first it was a cheery reveller and withal a man of learning and \n",
      "11.  dear holmes i fear that even had it on again why dr watson is it not have been \n",
      "12.  dear holmes i exclaimed devoutly but you were unconscious they must have been undoubtedly alone when she met \n",
      "13.  dear holmes that i could not make the best of my belief there were also two tickets for \n",
      "14.  dear holmes it is filled with coarse salt on emptying this miss cushing was horrified to find two \n",
      "15.  dear holmes that i had judged correctly having left the lady alone it would not be the least \n",
      "16.  dear holmes i have brought an advocate here who may follow him he said that this grey house \n",
      "17.  dear holmes i ejaculated commonplace said holmes though the matter there were marks of four fingers and a \n",
      "18.  dear holmes am i he gazed at him the trap pulled up on the night when the letter \n",
      "19.  dear holmes i ejaculated well really it can be of some service in the dark i nearly fell \n"
     ]
    }
   ]
  },
  {
   "cell_type": "code",
   "source": [
    "for i in range(20):\n",
    "    print(str(i)+\". \", generate_story(markov_model, start=\"my dear\", limit=8))"
   ],
   "metadata": {
    "trusted": true,
    "ExecuteTime": {
     "start_time": "2023-11-26T11:37:47.027384Z",
     "end_time": "2023-11-26T11:37:47.031923Z"
    }
   },
   "execution_count": 13,
   "outputs": [
    {
     "name": "stdout",
     "output_type": "stream",
     "text": [
      "0.  my dear sir knowing the vindictive character of its own indeed apart from the one who wishes to \n",
      "1.  my dear fellow it would be a colossal task she may have bolted during the struggle and was \n",
      "2.  my dear watson which he handed it back you say yes sir my own mind that all we \n",
      "3.  my dear sir if a document of immense value he asked not at all save the police some \n",
      "4.  my dear fellow i cried approaching him stand back stand right back said he laughing and pointing to \n",
      "5.  my dear fellow i congrat to milvertons housemaid good heavens holmes do you dismiss my case well mr \n",
      "6.  my dear watson i could thats what worries him so only i sent in their stead and we \n",
      "7.  my dear sir such a thing is the sequel of our investigation by a very tall handsome man \n",
      "8.  my dear sir said he there are a few inferences which are entirely its own even now we \n",
      "9.  my dear holmes i exclaimed how on earth did you think of anything else yes i admit it \n",
      "10.  my dear watson i was just one of murder and no trace here i passed you in a \n",
      "11.  my dear boy is nearly eighty cram full of gout too they have to determine is whether it \n",
      "12.  my dear sir such a course of lectures into a crouching position and moved towards the suppression of \n",
      "13.  my dear mr sherlock holmes then blessington must have been dead at least six hours there were no \n",
      "14.  my dear watson you are a little too rapid i would move said the older man as this \n",
      "15.  my dear watson we have come we took toby round to each other that point is a minor \n",
      "16.  my dear watson you can see it was required and ordered that was bad english but good american \n",
      "17.  my dear i hope to god youll be the undoing of us said mcginty and god knows i \n",
      "18.  my dear fellow we cant help it mr busybody holmes what he had seen that morning was further \n",
      "19.  my dear watson said the sick man i was sure of it it is a fair fight between \n"
     ]
    }
   ]
  },
  {
   "cell_type": "code",
   "source": [
    "for i in range(20):\n",
    "    print(str(i)+\". \", generate_story(markov_model, start=\"i would\", limit=8))"
   ],
   "metadata": {
    "trusted": true,
    "ExecuteTime": {
     "start_time": "2023-11-26T11:38:09.524935Z",
     "end_time": "2023-11-26T11:38:09.527421Z"
    }
   },
   "execution_count": 14,
   "outputs": [
    {
     "name": "stdout",
     "output_type": "stream",
     "text": [
      "0.  i would be after standing back from the lower portion reserved for their dependents at one end and \n",
      "1.  i would have been trying some experiments after you left i sent a duplicate key been found in \n",
      "2.  i would willingly do so but apparently found no trace could be the object of his marriage about \n",
      "3.  i would refer you to mr browner a few days and which might lead to other methods what \n",
      "4.  i would have gone away leaving all his words first said the colonel in of the questions and \n",
      "5.  i would have thought it criminal had he deduced what i would find that mr neil gibson has \n",
      "6.  i would wish to know whether you observed whether it was not holmess nature to take that half \n",
      "7.  i would take my word for it and burst out of the wall under which its splintered fragments \n",
      "8.  i would not miss harrison here for example there is nothing new under the shelter of a boulder \n",
      "9.  i would have had the slightest attraction to me for a moment later he was in actual professional \n",
      "10.  i would make some one hear us he was a general reining up of the singular affair of \n",
      "11.  i would suggest carrying this poor girl placed in so wet a night and therefore that he has \n",
      "12.  i would only observe that there was a different matter so it was that this young lady may \n",
      "13.  i would do what i ask if he prefers we are perfectly safe they will be able to \n",
      "14.  i would not have been a satisfactory case my friend threw out my hand it was very superficial \n",
      "15.  i would do justice upon him even as they passed one of us to come out the sailor \n",
      "16.  i would lay a dark mass loomed up in front of the daily telegraph which still stood upon \n",
      "17.  i would do it in such varied branches of literature nil philosophy nil astronomy nil politics feeble botany \n",
      "18.  i would dream of going watson for i entered by the window and stared at it in cold \n",
      "19.  i would suggest for example that this ivy and this he placed in his pockets save an apple \n"
     ]
    }
   ]
  },
  {
   "cell_type": "code",
   "source": [
    "print(generate_story(markov_model, start=\"the case\", limit=100))"
   ],
   "metadata": {
    "trusted": true,
    "ExecuteTime": {
     "start_time": "2023-11-26T11:38:22.368076Z",
     "end_time": "2023-11-26T11:38:22.387528Z"
    }
   },
   "execution_count": 15,
   "outputs": [
    {
     "name": "stdout",
     "output_type": "stream",
     "text": [
      "the case is clear enough certainly but how came the beast to get loose is it watson there is something more solid i have no doubt jackson would take my own steps to attain to some other place where it had snapped the top with her when she did it differ from any other time eh the woman at margate whom i should judge it was admirably done that it was carried out by the same train which connects the long line of fiery and masterful progress of the night when the calls three times it is well and if you will be in him at all until i have come prepared to do so in a free present of interest to me the impression of deformity but the face on getting into the room and so was a corporal who came into the affair not so fast as that but of course i remember it just as we had been standing listening at the half opened door and now it is essential essential i say that your disturbance dates from the house surely your wife feared such an attack she saw who it was it before you can get no news \n"
     ]
    }
   ]
  },
  {
   "cell_type": "code",
   "execution_count": null,
   "outputs": [],
   "source": [],
   "metadata": {
    "collapsed": false
   }
  }
 ]
}
