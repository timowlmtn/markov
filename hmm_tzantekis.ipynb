{
 "cells": [
  {
   "cell_type": "code",
   "execution_count": null,
   "metadata": {
    "collapsed": true
   },
   "outputs": [],
   "source": [
    "# https://www.kaggle.com/code/fortjohnson/markov-chains-and-hidden-markov-models"
   ]
  },
  {
   "cell_type": "code",
   "execution_count": 1,
   "outputs": [],
   "source": [
    "# This Python 3 environment comes with many helpful analytics libraries installed\n",
    "# It is defined by the kaggle/python docker image: https://github.com/kaggle/docker-python\n",
    "# For example, here's several helpful packages to load in\n",
    "%matplotlib inline\n",
    "import matplotlib.pyplot as plt\n",
    "from scipy import stats\n",
    "import numpy as np\n",
    "from hmmlearn import hmm"
   ],
   "metadata": {
    "collapsed": false,
    "ExecuteTime": {
     "start_time": "2023-12-11T04:58:12.527731Z",
     "end_time": "2023-12-11T04:58:12.776005Z"
    }
   }
  },
  {
   "cell_type": "code",
   "execution_count": 2,
   "outputs": [],
   "source": [
    "class Random_Variable:\n",
    "\n",
    "    def __init__(self, name, values, probability_distribution):\n",
    "        self.name = name\n",
    "        self.values = values\n",
    "        self.probability_distribution = probability_distribution\n",
    "        if all(type(item) is np.int64 for item in values):\n",
    "            self.type = 'numeric'\n",
    "            self.rv = stats.rv_discrete(name = name, values = (values, probability_distribution))\n",
    "        elif all(type(item) is str for item in values):\n",
    "            self.type = 'symbolic'\n",
    "            self.rv = stats.rv_discrete(name = name, values = (np.arange(len(values)), probability_distribution))\n",
    "            self.symbolic_values = values\n",
    "        else:\n",
    "            self.type = 'undefined'\n",
    "\n",
    "    def sample(self,size):\n",
    "        if (self.type =='numeric'):\n",
    "            return self.rv.rvs(size=size)\n",
    "        elif (self.type == 'symbolic'):\n",
    "            numeric_samples = self.rv.rvs(size=size)\n",
    "            mapped_samples = [self.values[x] for x in numeric_samples]\n",
    "            return mapped_samples\n",
    "\n",
    "    def probs(self):\n",
    "        return self.probability_distribution\n",
    "\n",
    "    def vals(self):\n",
    "        print(self.type)\n",
    "        return self.values"
   ],
   "metadata": {
    "collapsed": false,
    "ExecuteTime": {
     "start_time": "2023-12-11T04:58:41.113843Z",
     "end_time": "2023-12-11T04:58:41.129947Z"
    }
   }
  },
  {
   "cell_type": "code",
   "execution_count": 3,
   "outputs": [],
   "source": [
    "values = ['S', 'C']\n",
    "probabilities = [0.5, 0.5]\n",
    "weather = Random_Variable('weather', values, probabilities)\n",
    "samples = weather.sample(365)"
   ],
   "metadata": {
    "collapsed": false,
    "ExecuteTime": {
     "start_time": "2023-12-11T04:58:52.672083Z",
     "end_time": "2023-12-11T04:58:52.676165Z"
    }
   }
  },
  {
   "cell_type": "code",
   "execution_count": 4,
   "outputs": [
    {
     "data": {
      "text/plain": "<Figure size 1000x100 with 1 Axes>",
      "image/png": "[encoded data removed]"
     },
     "metadata": {},
     "output_type": "display_data"
    }
   ],
   "source": [
    "state2color = {}\n",
    "state2color['S'] = 'blue'\n",
    "state2color['C'] = 'grey'\n",
    "\n",
    "def plot_weather_samples(samples, state2color):\n",
    "    colors = [state2color[x] for x in samples]\n",
    "    x = np.arange(0, len(colors))\n",
    "    y = np.ones(len(colors))\n",
    "    plt.figure(figsize=(10,1))\n",
    "    plt.bar(x, y, color=colors, width=1)\n",
    "\n",
    "plot_weather_samples(samples, state2color)"
   ],
   "metadata": {
    "collapsed": false,
    "ExecuteTime": {
     "start_time": "2023-12-11T04:59:04.703024Z",
     "end_time": "2023-12-11T04:59:04.975092Z"
    }
   }
  },
  {
   "cell_type": "code",
   "execution_count": 7,
   "outputs": [],
   "source": [
    "\n",
    "def markov_chain(transmat, state, state_names, samples):\n",
    "    (rows, cols) = transmat.shape\n",
    "    rvs = []\n",
    "    values = list(np.arange(0,rows))\n",
    "\n",
    "    # create random variables for each row of transition matrix\n",
    "    for r in range(rows):\n",
    "        rv = Random_Variable(\"row\" + str(r), values, transmat[r])\n",
    "        rvs.append(rv)\n",
    "\n",
    "    # start from initial state and then sample the appropriate\n",
    "    # random variable based on the state following the transitions\n",
    "    states = []\n",
    "    for n in range(samples):\n",
    "        state = rvs[state].sample(1)[0]\n",
    "        states.append(state_names[state])\n",
    "    return states"
   ],
   "metadata": {
    "collapsed": false,
    "ExecuteTime": {
     "start_time": "2023-12-11T05:01:01.797841Z",
     "end_time": "2023-12-11T05:01:01.800141Z"
    }
   }
  },
  {
   "cell_type": "code",
   "execution_count": 8,
   "outputs": [],
   "source": [
    "# transition matrices for the Markov Chain\n",
    "transmat1 = np.array([[0.7, 0.3],\n",
    "                    [0.2, 0.8]])\n",
    "\n",
    "transmat2 = np.array([[0.9, 0.1],\n",
    "                    [0.1, 0.9]])\n",
    "\n",
    "transmat3 = np.array([[0.5, 0.5],\n",
    "                     [0.5, 0.5]])"
   ],
   "metadata": {
    "collapsed": false,
    "ExecuteTime": {
     "start_time": "2023-12-11T05:01:16.471582Z",
     "end_time": "2023-12-11T05:01:16.478208Z"
    }
   }
  },
  {
   "cell_type": "code",
   "execution_count": 9,
   "outputs": [
    {
     "data": {
      "text/plain": "<Figure size 1000x100 with 1 Axes>",
      "image/png": "[encoded data removed]"
     },
     "metadata": {},
     "output_type": "display_data"
    },
    {
     "data": {
      "text/plain": "<Figure size 1000x100 with 1 Axes>",
      "image/png": "[encoded data removed]"
     },
     "metadata": {},
     "output_type": "display_data"
    },
    {
     "data": {
      "text/plain": "<Figure size 1000x100 with 1 Axes>",
      "image/png": "[encoded data removed]"
     },
     "metadata": {},
     "output_type": "display_data"
    },
    {
     "data": {
      "text/plain": "<Figure size 1000x100 with 1 Axes>",
      "image/png": "[encoded data removed]"
     },
     "metadata": {},
     "output_type": "display_data"
    }
   ],
   "source": [
    "# plot the iid model too\n",
    "\n",
    "state2color = {}\n",
    "state2color['S'] = 'yellow'\n",
    "state2color['C'] = 'grey'\n",
    "samples = weather.sample(365)\n",
    "\n",
    "plot_weather_samples(samples, state2color)\n",
    "\n",
    "samples1 = markov_chain(transmat1,0,['S','C'], 365)\n",
    "plot_weather_samples(samples1, state2color)\n",
    "\n",
    "samples2 = markov_chain(transmat2,0,['S','C'], 365)\n",
    "plot_weather_samples(samples2, state2color)\n",
    "\n",
    "samples3 = markov_chain(transmat3,0,['S','C'], 365)\n",
    "plot_weather_samples(samples3, state2color)\n"
   ],
   "metadata": {
    "collapsed": false,
    "ExecuteTime": {
     "start_time": "2023-12-11T05:01:32.209874Z",
     "end_time": "2023-12-11T05:01:33.309815Z"
    }
   }
  },
  {
   "cell_type": "code",
   "execution_count": 10,
   "outputs": [
    {
     "data": {
      "text/plain": "<Figure size 1000x100 with 1 Axes>",
      "image/png": "[encoded data removed]"
     },
     "metadata": {},
     "output_type": "display_data"
    }
   ],
   "source": [
    "state2color = {}\n",
    "state2color['S'] = 'yellow'\n",
    "state2color['C'] = 'grey'\n",
    "\n",
    "samples = weather.sample(365)\n",
    "states = markov_chain(transmat2,0,['S','C'], 365)\n",
    "plot_weather_samples(states, state2color)\n",
    "\n",
    "sunny_colors = Random_Variable('sunny_colors', ['y', 'r', 'b', 'g'],\n",
    "                              [0.4, 0.4, 0.1, 0.1])\n",
    "cloudy_colors = Random_Variable('cloudy_colors', ['y', 'r', 'b', 'g'],\n",
    "                               [0.1, 0.1, 0.6, 0.2])"
   ],
   "metadata": {
    "collapsed": false,
    "ExecuteTime": {
     "start_time": "2023-12-11T05:02:21.494121Z",
     "end_time": "2023-12-11T05:02:21.746876Z"
    }
   }
  },
  {
   "cell_type": "code",
   "execution_count": 11,
   "outputs": [],
   "source": [
    "def emit_sample(state, sunny_colors, cloudy_colors):\n",
    "    if (state == 'S'):\n",
    "        sample = sunny_colors.sample(1)[0]\n",
    "    else:\n",
    "        sample = cloudy_colors.sample(1)[0]\n",
    "    return sample"
   ],
   "metadata": {
    "collapsed": false,
    "ExecuteTime": {
     "start_time": "2023-12-11T05:02:32.583683Z",
     "end_time": "2023-12-11T05:02:32.595276Z"
    }
   }
  },
  {
   "cell_type": "code",
   "execution_count": 12,
   "outputs": [
    {
     "data": {
      "text/plain": "<Figure size 1000x100 with 1 Axes>",
      "image/png": "[encoded data removed]"
     },
     "metadata": {},
     "output_type": "display_data"
    }
   ],
   "source": [
    "samples = [emit_sample(s, sunny_colors, cloudy_colors) for s in states]\n",
    "state2color = {}\n",
    "state2color['y'] = 'yellow'\n",
    "state2color['r'] = 'red'\n",
    "state2color['b'] = 'blue'\n",
    "state2color['g'] = 'grey'\n",
    "plot_weather_samples(samples, state2color)"
   ],
   "metadata": {
    "collapsed": false,
    "ExecuteTime": {
     "start_time": "2023-12-11T05:02:48.550496Z",
     "end_time": "2023-12-11T05:02:48.790288Z"
    }
   }
  },
  {
   "cell_type": "code",
   "execution_count": 13,
   "outputs": [],
   "source": [
    "transmat = np.array([[0.9, 0.1],\n",
    "                    [0.1, 0.9]])\n",
    "\n",
    "start_prob = np.array([1.0, 0.0, 0.0])\n",
    "\n",
    "# yellow and red have high probs for sunny\n",
    "# blue and grey have high probs for cloudy\n",
    "emission_probs = np.array([[0.4, 0.4, 0.1, 0.1],\n",
    "                           [0.1, 0.1, 0.6, 0.2]])"
   ],
   "metadata": {
    "collapsed": false,
    "ExecuteTime": {
     "start_time": "2023-12-11T05:03:21.814942Z",
     "end_time": "2023-12-11T05:03:21.821977Z"
    }
   }
  },
  {
   "cell_type": "code",
   "execution_count": 14,
   "outputs": [
    {
     "name": "stderr",
     "output_type": "stream",
     "text": [
      "MultinomialHMM has undergone major changes. The previous version was implementing a CategoricalHMM (a special case of MultinomialHMM). This new implementation follows the standard definition for a Multinomial distribution (e.g. as in https://en.wikipedia.org/wiki/Multinomial_distribution). See these issues for details:\n",
      "https://github.com/hmmlearn/hmmlearn/issues/335\n",
      "https://github.com/hmmlearn/hmmlearn/issues/340\n"
     ]
    }
   ],
   "source": [
    "model = hmm.MultinomialHMM(n_components=2)\n",
    "model.startprob_ = start_prob\n",
    "model.transmat_ = transmat\n",
    "model.emissionprob_ = emission_probs"
   ],
   "metadata": {
    "collapsed": false,
    "ExecuteTime": {
     "start_time": "2023-12-11T05:03:33.089406Z",
     "end_time": "2023-12-11T05:03:33.104332Z"
    }
   }
  },
  {
   "cell_type": "code",
   "execution_count": 18,
   "outputs": [
    {
     "ename": "ValueError",
     "evalue": "startprob_ must have length n_components",
     "output_type": "error",
     "traceback": [
      "\u001B[0;31m---------------------------------------------------------------------------\u001B[0m",
      "\u001B[0;31mValueError\u001B[0m                                Traceback (most recent call last)",
      "Cell \u001B[0;32mIn[18], line 3\u001B[0m\n\u001B[1;32m      1\u001B[0m \u001B[38;5;66;03m# sample the model - X is the observed values\u001B[39;00m\n\u001B[1;32m      2\u001B[0m \u001B[38;5;66;03m# and Z is the \"hidden\" states\u001B[39;00m\n\u001B[0;32m----> 3\u001B[0m \u001B[43mmodel\u001B[49m\u001B[38;5;241;43m.\u001B[39;49m\u001B[43msample\u001B[49m\u001B[43m(\u001B[49m\u001B[43mn_samples\u001B[49m\u001B[38;5;241;43m=\u001B[39;49m\u001B[38;5;241;43m365\u001B[39;49m\u001B[43m)\u001B[49m\n",
      "File \u001B[0;32m~/PycharmProjects/MachineLearning/venv/lib/python3.9/site-packages/hmmlearn/base.py:416\u001B[0m, in \u001B[0;36m_AbstractHMM.sample\u001B[0;34m(self, n_samples, random_state, currstate)\u001B[0m\n\u001B[1;32m    387\u001B[0m \u001B[38;5;250m\u001B[39m\u001B[38;5;124;03m\"\"\"\u001B[39;00m\n\u001B[1;32m    388\u001B[0m \u001B[38;5;124;03mGenerate random samples from the model.\u001B[39;00m\n\u001B[1;32m    389\u001B[0m \n\u001B[0;32m   (...)\u001B[0m\n\u001B[1;32m    413\u001B[0m \u001B[38;5;124;03m    X, Z = model.sample(n_samples=10, currstate=Z[-1])\u001B[39;00m\n\u001B[1;32m    414\u001B[0m \u001B[38;5;124;03m\"\"\"\u001B[39;00m\n\u001B[1;32m    415\u001B[0m check_is_fitted(\u001B[38;5;28mself\u001B[39m, \u001B[38;5;124m\"\u001B[39m\u001B[38;5;124mstartprob_\u001B[39m\u001B[38;5;124m\"\u001B[39m)\n\u001B[0;32m--> 416\u001B[0m \u001B[38;5;28;43mself\u001B[39;49m\u001B[38;5;241;43m.\u001B[39;49m\u001B[43m_check\u001B[49m\u001B[43m(\u001B[49m\u001B[43m)\u001B[49m\n\u001B[1;32m    418\u001B[0m \u001B[38;5;28;01mif\u001B[39;00m random_state \u001B[38;5;129;01mis\u001B[39;00m \u001B[38;5;28;01mNone\u001B[39;00m:\n\u001B[1;32m    419\u001B[0m     random_state \u001B[38;5;241m=\u001B[39m \u001B[38;5;28mself\u001B[39m\u001B[38;5;241m.\u001B[39mrandom_state\n",
      "File \u001B[0;32m~/PycharmProjects/MachineLearning/venv/lib/python3.9/site-packages/hmmlearn/hmm.py:903\u001B[0m, in \u001B[0;36mMultinomialHMM._check\u001B[0;34m(self)\u001B[0m\n\u001B[1;32m    902\u001B[0m \u001B[38;5;28;01mdef\u001B[39;00m \u001B[38;5;21m_check\u001B[39m(\u001B[38;5;28mself\u001B[39m):\n\u001B[0;32m--> 903\u001B[0m     \u001B[38;5;28;43msuper\u001B[39;49m\u001B[43m(\u001B[49m\u001B[43m)\u001B[49m\u001B[38;5;241;43m.\u001B[39;49m\u001B[43m_check\u001B[49m\u001B[43m(\u001B[49m\u001B[43m)\u001B[49m\n\u001B[1;32m    904\u001B[0m     \u001B[38;5;28mself\u001B[39m\u001B[38;5;241m.\u001B[39memissionprob_ \u001B[38;5;241m=\u001B[39m np\u001B[38;5;241m.\u001B[39matleast_2d(\u001B[38;5;28mself\u001B[39m\u001B[38;5;241m.\u001B[39memissionprob_)\n\u001B[1;32m    905\u001B[0m     n_features \u001B[38;5;241m=\u001B[39m \u001B[38;5;28mgetattr\u001B[39m(\u001B[38;5;28mself\u001B[39m, \u001B[38;5;124m\"\u001B[39m\u001B[38;5;124mn_features\u001B[39m\u001B[38;5;124m\"\u001B[39m, \u001B[38;5;28mself\u001B[39m\u001B[38;5;241m.\u001B[39memissionprob_\u001B[38;5;241m.\u001B[39mshape[\u001B[38;5;241m1\u001B[39m])\n",
      "File \u001B[0;32m~/PycharmProjects/MachineLearning/venv/lib/python3.9/site-packages/hmmlearn/base.py:948\u001B[0m, in \u001B[0;36mBaseHMM._check\u001B[0;34m(self)\u001B[0m\n\u001B[1;32m    946\u001B[0m \u001B[38;5;28mself\u001B[39m\u001B[38;5;241m.\u001B[39mstartprob_ \u001B[38;5;241m=\u001B[39m np\u001B[38;5;241m.\u001B[39masarray(\u001B[38;5;28mself\u001B[39m\u001B[38;5;241m.\u001B[39mstartprob_)\n\u001B[1;32m    947\u001B[0m \u001B[38;5;28;01mif\u001B[39;00m \u001B[38;5;28mlen\u001B[39m(\u001B[38;5;28mself\u001B[39m\u001B[38;5;241m.\u001B[39mstartprob_) \u001B[38;5;241m!=\u001B[39m \u001B[38;5;28mself\u001B[39m\u001B[38;5;241m.\u001B[39mn_components:\n\u001B[0;32m--> 948\u001B[0m     \u001B[38;5;28;01mraise\u001B[39;00m \u001B[38;5;167;01mValueError\u001B[39;00m(\u001B[38;5;124m\"\u001B[39m\u001B[38;5;124mstartprob_ must have length n_components\u001B[39m\u001B[38;5;124m\"\u001B[39m)\n\u001B[1;32m    949\u001B[0m \u001B[38;5;28mself\u001B[39m\u001B[38;5;241m.\u001B[39m_check_sum_1(\u001B[38;5;124m\"\u001B[39m\u001B[38;5;124mstartprob_\u001B[39m\u001B[38;5;124m\"\u001B[39m)\n\u001B[1;32m    951\u001B[0m \u001B[38;5;28mself\u001B[39m\u001B[38;5;241m.\u001B[39mtransmat_ \u001B[38;5;241m=\u001B[39m np\u001B[38;5;241m.\u001B[39masarray(\u001B[38;5;28mself\u001B[39m\u001B[38;5;241m.\u001B[39mtransmat_)\n",
      "\u001B[0;31mValueError\u001B[0m: startprob_ must have length n_components"
     ]
    }
   ],
   "source": [
    "# sample the model - X is the observed values\n",
    "# and Z is the \"hidden\" states\n",
    "model.sample(n_samples=365)"
   ],
   "metadata": {
    "collapsed": false
   }
  },
  {
   "cell_type": "code",
   "execution_count": 16,
   "outputs": [
    {
     "ename": "NameError",
     "evalue": "name 'X' is not defined",
     "output_type": "error",
     "traceback": [
      "\u001B[0;31m---------------------------------------------------------------------------\u001B[0m",
      "\u001B[0;31mNameError\u001B[0m                                 Traceback (most recent call last)",
      "Cell \u001B[0;32mIn[16], line 1\u001B[0m\n\u001B[0;32m----> 1\u001B[0m \u001B[43mX\u001B[49m\n",
      "\u001B[0;31mNameError\u001B[0m: name 'X' is not defined"
     ]
    }
   ],
   "source": [],
   "metadata": {
    "collapsed": false
   }
  },
  {
   "cell_type": "code",
   "execution_count": null,
   "outputs": [],
   "source": [],
   "metadata": {
    "collapsed": false
   }
  }
 ],
 "metadata": {
  "kernelspec": {
   "display_name": "Python 3",
   "language": "python",
   "name": "python3"
  },
  "language_info": {
   "codemirror_mode": {
    "name": "ipython",
    "version": 2
   },
   "file_extension": ".py",
   "mimetype": "text/x-python",
   "name": "python",
   "nbconvert_exporter": "python",
   "pygments_lexer": "ipython2",
   "version": "2.7.6"
  }
 },
 "nbformat": 4,
 "nbformat_minor": 0
}
