{
 "cells": [
  {
   "cell_type": "code",
   "execution_count": 2,
   "metadata": {
    "collapsed": true,
    "ExecuteTime": {
     "start_time": "2023-12-10T06:16:48.851062Z",
     "end_time": "2023-12-10T06:16:49.944049Z"
    }
   },
   "outputs": [],
   "source": [
    "# https://towardsdatascience.com/hidden-markov-models-explained-with-a-real-life-example-and-python-code-2df2a7956d65"
   ]
  },
  {
   "cell_type": "code",
   "execution_count": null,
   "outputs": [],
   "source": [
    "from hmmlearn import hmm\n",
    "import numpy as np"
   ],
   "metadata": {
    "collapsed": false
   }
  },
  {
   "cell_type": "code",
   "execution_count": 34,
   "outputs": [
    {
     "name": "stdout",
     "output_type": "stream",
     "text": [
      "Setup HMM model with parameters\n"
     ]
    }
   ],
   "source": [
    "## Part 1. Generating a HMM with specific parameters and simulating the exam\n",
    "print(\"Setup HMM model with parameters\")\n",
    "# init_params are the parameters used to initialize the model for training\n",
    "# s -> start probability\n",
    "# t -> transition probabilities\n",
    "# e -> emission probabilities\n",
    "model = hmm.CategoricalHMM(n_components=2, random_state=425, init_params='ste')"
   ],
   "metadata": {
    "collapsed": false,
    "ExecuteTime": {
     "start_time": "2023-12-10T07:13:32.666220Z",
     "end_time": "2023-12-10T07:13:32.669963Z"
    }
   }
  },
  {
   "cell_type": "code",
   "execution_count": 35,
   "outputs": [],
   "source": [
    "# initial probabilities\n",
    "# probability of starting in the Tired state = 0\n",
    "# probability of starting in the Happy state = 1\n",
    "initial_distribution = np.array([0.1, 0.9])\n",
    "model.startprob_ = initial_distribution"
   ],
   "metadata": {
    "collapsed": false,
    "ExecuteTime": {
     "start_time": "2023-12-10T07:13:33.204590Z",
     "end_time": "2023-12-10T07:13:33.208281Z"
    }
   }
  },
  {
   "cell_type": "code",
   "execution_count": 36,
   "outputs": [
    {
     "name": "stdout",
     "output_type": "stream",
     "text": [
      "Step 1. Complete - Defined Initial Distribution\n"
     ]
    }
   ],
   "source": [
    "print(\"Step 1. Complete - Defined Initial Distribution\")"
   ],
   "metadata": {
    "collapsed": false,
    "ExecuteTime": {
     "start_time": "2023-12-10T07:13:33.854280Z",
     "end_time": "2023-12-10T07:13:33.858891Z"
    }
   }
  },
  {
   "cell_type": "code",
   "execution_count": 37,
   "outputs": [],
   "source": [
    "# transition probabilities\n",
    "#        tired    happy\n",
    "# tired   0.4      0.6\n",
    "# happy   0.2      0.8"
   ],
   "metadata": {
    "collapsed": false,
    "ExecuteTime": {
     "start_time": "2023-12-10T07:13:34.622520Z",
     "end_time": "2023-12-10T07:13:34.625961Z"
    }
   }
  },
  {
   "cell_type": "code",
   "execution_count": 38,
   "outputs": [
    {
     "name": "stdout",
     "output_type": "stream",
     "text": [
      "Step 2. Complete - Defined Transition Matrix\n"
     ]
    }
   ],
   "source": [
    "transition_distribution = np.array([[0.4, 0.6], [0.2, 0.8]])\n",
    "model.transmat_ = transition_distribution\n",
    "print(\"Step 2. Complete - Defined Transition Matrix\")"
   ],
   "metadata": {
    "collapsed": false,
    "ExecuteTime": {
     "start_time": "2023-12-10T07:13:51.292457Z",
     "end_time": "2023-12-10T07:13:51.311516Z"
    }
   }
  },
  {
   "cell_type": "code",
   "execution_count": 39,
   "outputs": [],
   "source": [
    "# observation probabilities\n",
    "#        Fail    OK      Perfect\n",
    "# tired   0.3    0.5       0.2\n",
    "# happy   0.1    0.5       0.4\n"
   ],
   "metadata": {
    "collapsed": false,
    "ExecuteTime": {
     "start_time": "2023-12-10T07:13:51.875512Z",
     "end_time": "2023-12-10T07:13:51.879000Z"
    }
   }
  },
  {
   "cell_type": "code",
   "execution_count": 40,
   "outputs": [
    {
     "name": "stdout",
     "output_type": "stream",
     "text": [
      "Step 3. Complete - Defined Observation Probability Matrix\n"
     ]
    }
   ],
   "source": [
    "observation_probability_matrix = np.array([[0.3, 0.5, 0.2], [0.1, 0.5, 0.4]])\n",
    "model.emissionprob_ = observation_probability_matrix\n",
    "print(\"Step 3. Complete - Defined Observation Probability Matrix\")\n"
   ],
   "metadata": {
    "collapsed": false,
    "ExecuteTime": {
     "start_time": "2023-12-10T07:13:52.612908Z",
     "end_time": "2023-12-10T07:13:52.615891Z"
    }
   }
  },
  {
   "cell_type": "code",
   "execution_count": 41,
   "outputs": [],
   "source": [
    "# simulate performing 100,000 trials, i.e., aptitude tests\n",
    "trials, simulated_states = model.sample(100000)"
   ],
   "metadata": {
    "collapsed": false,
    "ExecuteTime": {
     "start_time": "2023-12-10T07:13:53.493243Z",
     "end_time": "2023-12-10T07:13:53.956505Z"
    }
   }
  },
  {
   "cell_type": "code",
   "execution_count": 42,
   "outputs": [
    {
     "name": "stdout",
     "output_type": "stream",
     "text": [
      "\n",
      "Sample of Simulated Trials - Based on Model Parameters\n",
      "[[1]\n",
      " [1]\n",
      " [2]\n",
      " [1]\n",
      " [2]\n",
      " [0]\n",
      " [1]\n",
      " [1]\n",
      " [1]\n",
      " [2]]\n"
     ]
    }
   ],
   "source": [
    "# Output a sample of the simulated trials\n",
    "# 0 -> Fail\n",
    "# 1 -> OK\n",
    "# 2 -> Perfect\n",
    "print(\"\\nSample of Simulated Trials - Based on Model Parameters\")\n",
    "print(trials[:10])"
   ],
   "metadata": {
    "collapsed": false,
    "ExecuteTime": {
     "start_time": "2023-12-10T07:13:54.667406Z",
     "end_time": "2023-12-10T07:13:54.674182Z"
    }
   }
  },
  {
   "cell_type": "code",
   "execution_count": 43,
   "outputs": [],
   "source": [
    "## Part 2 - Decoding the hidden state sequence that leads\n",
    "## to an observation sequence of OK - Fail - Perfect\n",
    "\n",
    "# split our data into training and test sets (50/50 split)\n",
    "X_train = trials[:trials.shape[0] // 2]\n",
    "X_test = trials[trials.shape[0] // 2:]\n"
   ],
   "metadata": {
    "collapsed": false,
    "ExecuteTime": {
     "start_time": "2023-12-10T07:13:55.445380Z",
     "end_time": "2023-12-10T07:13:55.447647Z"
    }
   }
  },
  {
   "cell_type": "code",
   "execution_count": 44,
   "outputs": [
    {
     "name": "stderr",
     "output_type": "stream",
     "text": [
      "Even though the 'startprob_' attribute is set, it will be overwritten during initialization because 'init_params' contains 's'\n",
      "Even though the 'transmat_' attribute is set, it will be overwritten during initialization because 'init_params' contains 't'\n",
      "Even though the 'emissionprob_' attribute is set, it will be overwritten during initialization because 'init_params' contains 'e'\n"
     ]
    },
    {
     "name": "stdout",
     "output_type": "stream",
     "text": [
      "Predict the Hidden State Transitions that were being the exam scores OK, Fail, Perfect: \n",
      " 0 -> Tired , 1 -> Happy\n",
      "[1 0 0]\n"
     ]
    }
   ],
   "source": [
    "model.fit(X_train)\n",
    "\n",
    "# the exam had 3 trials and your dog had the following score: OK, Fail, Perfect (1, 0 , 2)\n",
    "exam_observations = [[1, 0, 2]]\n",
    "predicted_states = model.predict(X=[[1, 0, 2]])\n",
    "print(\"Predict the Hidden State Transitions that were being the exam scores OK, Fail, Perfect: \\n 0 -> Tired , \"\n",
    "      \"1 -> Happy\")\n",
    "print(predicted_states)"
   ],
   "metadata": {
    "collapsed": false,
    "ExecuteTime": {
     "start_time": "2023-12-10T07:13:56.155233Z",
     "end_time": "2023-12-10T07:13:56.312730Z"
    }
   }
  },
  {
   "cell_type": "code",
   "execution_count": null,
   "outputs": [],
   "source": [],
   "metadata": {
    "collapsed": false
   }
  }
 ],
 "metadata": {
  "kernelspec": {
   "display_name": "Python 3",
   "language": "python",
   "name": "python3"
  },
  "language_info": {
   "codemirror_mode": {
    "name": "ipython",
    "version": 2
   },
   "file_extension": ".py",
   "mimetype": "text/x-python",
   "name": "python",
   "nbconvert_exporter": "python",
   "pygments_lexer": "ipython2",
   "version": "2.7.6"
  }
 },
 "nbformat": 4,
 "nbformat_minor": 0
}
