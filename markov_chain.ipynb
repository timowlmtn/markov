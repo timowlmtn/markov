{
 "cells": [
  {
   "cell_type": "markdown",
   "source": [
    "# A Simple Exploration of a Markov Chain\n",
    "\n",
    "## From Normalized Nerd\n",
    "\n",
    "- https://www.youtube.com/watch?v=i3AkTO9HLXo"
   ],
   "metadata": {
    "collapsed": false
   }
  },
  {
   "cell_type": "code",
   "execution_count": 4,
   "outputs": [],
   "source": [
    "import numpy as np"
   ],
   "metadata": {
    "collapsed": false,
    "ExecuteTime": {
     "start_time": "2023-11-26T09:23:49.626663Z",
     "end_time": "2023-11-26T09:23:49.629372Z"
    }
   }
  },
  {
   "cell_type": "code",
   "execution_count": 12,
   "outputs": [
    {
     "data": {
      "text/plain": "matrix([[0.2, 0.6, 0.2],\n        [0.3, 0. , 0.7],\n        [0.5, 0. , 0.5]])"
     },
     "metadata": {},
     "output_type": "display_data"
    }
   ],
   "source": [
    "tm = np.matrix([[0.2, 0.6, 0.2], [0.3, 0, 0.7], [0.5, 0, 0.5]])\n",
    "display(tm)"
   ],
   "metadata": {
    "collapsed": false,
    "ExecuteTime": {
     "start_time": "2023-11-26T09:27:24.015566Z",
     "end_time": "2023-11-26T09:27:24.028504Z"
    }
   }
  },
  {
   "cell_type": "code",
   "execution_count": 28,
   "outputs": [],
   "source": [
    "evals, evecs = np.linalg.eig(tm.T)"
   ],
   "metadata": {
    "collapsed": false,
    "ExecuteTime": {
     "start_time": "2023-11-26T09:43:54.379169Z",
     "end_time": "2023-11-26T09:43:54.382769Z"
    }
   }
  },
  {
   "cell_type": "code",
   "execution_count": 33,
   "outputs": [
    {
     "data": {
      "text/plain": "array([ 1.  +0.j       , -0.15+0.3122499j, -0.15-0.3122499j])"
     },
     "execution_count": 33,
     "metadata": {},
     "output_type": "execute_result"
    }
   ],
   "source": [
    "evals"
   ],
   "metadata": {
    "collapsed": false,
    "ExecuteTime": {
     "start_time": "2023-11-26T09:44:12.295834Z",
     "end_time": "2023-11-26T09:44:12.298936Z"
    }
   }
  },
  {
   "cell_type": "code",
   "execution_count": 30,
   "outputs": [
    {
     "data": {
      "text/plain": "matrix([[-0.58746336+0.j        , -0.16984156+0.35355339j,\n         -0.16984156-0.35355339j]])"
     },
     "execution_count": 30,
     "metadata": {},
     "output_type": "execute_result"
    }
   ],
   "source": [
    "evecs[0]"
   ],
   "metadata": {
    "collapsed": false,
    "ExecuteTime": {
     "start_time": "2023-11-26T09:43:56.079458Z",
     "end_time": "2023-11-26T09:43:56.082271Z"
    }
   }
  },
  {
   "cell_type": "code",
   "execution_count": 36,
   "outputs": [
    {
     "data": {
      "text/plain": "(1.000000000000001+0j)"
     },
     "execution_count": 36,
     "metadata": {},
     "output_type": "execute_result"
    }
   ],
   "source": [
    "evals[0].sum()"
   ],
   "metadata": {
    "collapsed": false,
    "ExecuteTime": {
     "start_time": "2023-11-26T10:38:23.919005Z",
     "end_time": "2023-11-26T10:38:23.921782Z"
    }
   }
  },
  {
   "cell_type": "code",
   "execution_count": 37,
   "outputs": [
    {
     "name": "stdout",
     "output_type": "stream",
     "text": [
      "[[-0.58746336+0.j         -0.16984156+0.35355339j -0.16984156-0.35355339j]\n",
      " [-0.35247801+0.j          0.67936622+0.j          0.67936622-0.j        ]\n",
      " [-0.72845456+0.j         -0.50952467-0.35355339j -0.50952467+0.35355339j]]\n"
     ]
    }
   ],
   "source": [
    "print(evecs)\n"
   ],
   "metadata": {
    "collapsed": false,
    "ExecuteTime": {
     "start_time": "2023-11-26T10:38:55.581219Z",
     "end_time": "2023-11-26T10:38:55.583873Z"
    }
   }
  },
  {
   "cell_type": "code",
   "execution_count": 39,
   "outputs": [
    {
     "name": "stdout",
     "output_type": "stream",
     "text": [
      "[[-0.35247801+0.j  0.67936622+0.j  0.67936622-0.j]]\n"
     ]
    }
   ],
   "source": [
    "print(evecs[1])"
   ],
   "metadata": {
    "collapsed": false,
    "ExecuteTime": {
     "start_time": "2023-11-26T10:39:16.199331Z",
     "end_time": "2023-11-26T10:39:16.201960Z"
    }
   }
  },
  {
   "cell_type": "code",
   "execution_count": 41,
   "outputs": [
    {
     "data": {
      "text/plain": "array([ 1.  +0.j       , -0.15+0.3122499j, -0.15-0.3122499j])"
     },
     "execution_count": 41,
     "metadata": {},
     "output_type": "execute_result"
    }
   ],
   "source": [
    "evals"
   ],
   "metadata": {
    "collapsed": false,
    "ExecuteTime": {
     "start_time": "2023-11-26T10:39:38.027159Z",
     "end_time": "2023-11-26T10:39:38.029914Z"
    }
   }
  },
  {
   "cell_type": "code",
   "execution_count": 48,
   "outputs": [],
   "source": [
    "tmA = np.matrix([[0.5, 0.2, 0.3],[0.6, 0.2, 0.2], [0.1, 0.8, 0.1]])"
   ],
   "metadata": {
    "collapsed": false,
    "ExecuteTime": {
     "start_time": "2023-11-26T10:46:09.659231Z",
     "end_time": "2023-11-26T10:46:09.662699Z"
    }
   }
  },
  {
   "cell_type": "code",
   "execution_count": 49,
   "outputs": [
    {
     "data": {
      "text/plain": "matrix([[0.5, 0.2, 0.3],\n        [0.6, 0.2, 0.2],\n        [0.1, 0.8, 0.1]])"
     },
     "metadata": {},
     "output_type": "display_data"
    }
   ],
   "source": [
    "display(tmA)\n"
   ],
   "metadata": {
    "collapsed": false,
    "ExecuteTime": {
     "start_time": "2023-11-26T10:46:10.239260Z",
     "end_time": "2023-11-26T10:46:10.254460Z"
    }
   }
  },
  {
   "cell_type": "code",
   "execution_count": 50,
   "outputs": [],
   "source": [
    "tmA2 = np.matmul(tmA, tmA)"
   ],
   "metadata": {
    "collapsed": false,
    "ExecuteTime": {
     "start_time": "2023-11-26T10:50:23.145229Z",
     "end_time": "2023-11-26T10:50:23.156402Z"
    }
   }
  },
  {
   "cell_type": "code",
   "execution_count": 51,
   "outputs": [
    {
     "data": {
      "text/plain": "matrix([[0.4 , 0.38, 0.22],\n        [0.44, 0.32, 0.24],\n        [0.54, 0.26, 0.2 ]])"
     },
     "metadata": {},
     "output_type": "display_data"
    }
   ],
   "source": [
    "display(tmA2)"
   ],
   "metadata": {
    "collapsed": false,
    "ExecuteTime": {
     "start_time": "2023-11-26T10:50:30.018940Z",
     "end_time": "2023-11-26T10:50:30.027277Z"
    }
   }
  },
  {
   "cell_type": "code",
   "execution_count": 59,
   "outputs": [
    {
     "data": {
      "text/plain": "matrix([[0.444436  , 0.33333968, 0.22222432],\n        [0.44444864, 0.33332576, 0.2222256 ],\n        [0.44445504, 0.333332  , 0.22221296]])"
     },
     "metadata": {},
     "output_type": "display_data"
    }
   ],
   "source": [
    "display(np.linalg.matrix_power(tmA, 8))"
   ],
   "metadata": {
    "collapsed": false,
    "ExecuteTime": {
     "start_time": "2023-11-26T10:56:29.685560Z",
     "end_time": "2023-11-26T10:56:29.689277Z"
    }
   }
  },
  {
   "cell_type": "code",
   "execution_count": null,
   "outputs": [],
   "source": [],
   "metadata": {
    "collapsed": false
   }
  }
 ],
 "metadata": {
  "kernelspec": {
   "display_name": "Python 3",
   "language": "python",
   "name": "python3"
  },
  "language_info": {
   "codemirror_mode": {
    "name": "ipython",
    "version": 2
   },
   "file_extension": ".py",
   "mimetype": "text/x-python",
   "name": "python",
   "nbconvert_exporter": "python",
   "pygments_lexer": "ipython2",
   "version": "2.7.6"
  }
 },
 "nbformat": 4,
 "nbformat_minor": 0
}
